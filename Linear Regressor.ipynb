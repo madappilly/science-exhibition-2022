{
 "cells": [
  {
   "cell_type": "code",
   "execution_count": 15,
   "metadata": {},
   "outputs": [],
   "source": [
    "import sklearn \n",
    "import urllib.request\n",
    "import matplotlib.pyplot as plt\n",
    "import numpy as np\n",
    "import os\n",
    "import pandas as pd\n",
    "import sklearn.linear_model\n",
    "import matplotlib as mpl"
   ]
  },
  {
   "cell_type": "code",
   "execution_count": 16,
   "metadata": {},
   "outputs": [],
   "source": [
    "DOWNLOAD_ROOT = \"https://raw.githubusercontent.com/ageron/handson-ml2/master/\"\n",
    "datapath = os.path.join(\"datasets\", \"lifesat\", \"\")\n",
    "os.makedirs(datapath, exist_ok=True)"
   ]
  },
  {
   "cell_type": "code",
   "execution_count": 3,
   "metadata": {
    "scrolled": true
   },
   "outputs": [],
   "source": [
    "for filename in (\"oecd_bli_2015.csv\", \"gdp_per_capita.csv\"):\n",
    "    print(\"Downloading\", filename)\n",
    "    url = DOWNLOAD_ROOT + \"datasets/lifesat/\" + filename\n",
    "    urllib.request.urlretrieve(url, datapath + filename)"
   ]
  },
  {
   "cell_type": "code",
   "execution_count": 17,
   "metadata": {},
   "outputs": [],
   "source": [
    "COLOR = 'white'\n",
    "mpl.rcParams['text.color'] = COLOR\n",
    "mpl.rcParams['axes.labelcolor'] = COLOR\n",
    "mpl.rcParams['xtick.color'] = COLOR\n",
    "mpl.rcParams['ytick.color'] = COLOR"
   ]
  },
  {
   "cell_type": "code",
   "execution_count": 18,
   "metadata": {},
   "outputs": [],
   "source": [
    "def load_thing(oecd, gdp):\n",
    "    #Life Satisfaction\n",
    "    oecd = oecd[oecd[\"INEQUALITY\"]==\"TOT\"]\n",
    "    oecd = oecd.pivot(index=\"Country\", columns=\"Indicator\", values=\"Value\")\n",
    "    #GDP data\n",
    "    gdp.rename(columns={\"2015\": \"GDP per capita\"}, inplace=True)\n",
    "    gdp.set_index(\"Country\", inplace=True)\n",
    "    #Merge\n",
    "    full_country_stats = pd.merge(left=oecd, right=gdp, left_index=True, right_index=True)\n",
    "    full_country_stats.sort_values(by=\"GDP per capita\", inplace=True)\n",
    "    return full_country_stats"
   ]
  },
  {
   "cell_type": "code",
   "execution_count": 19,
   "metadata": {},
   "outputs": [],
   "source": [
    "def prep_country_stats(oecd, gdp):\n",
    "    load_thing(oecd, gdp)\n",
    "    remove_indices = [0, 1, 6, 8, 33, 34, 35]\n",
    "    keep_indices = list(set(range(36)) - set(remove_indices))\n",
    "    return full_country_stats[[\"GDP per capita\", 'Life satisfaction']].iloc[keep_indices]"
   ]
  },
  {
   "cell_type": "code",
   "execution_count": 20,
   "metadata": {},
   "outputs": [],
   "source": [
    "oecd = pd.read_csv(datapath + \"oecd_bli_2015.csv\", thousands=',')\n",
    "gdp = pd.read_csv(datapath+\"gdp_per_capita.csv\", thousands=',', delimiter='\\t',encoding='latin1', na_values=\"n/a\")\n",
    "full_country_stats = load_thing(oecd, gdp)"
   ]
  },
  {
   "cell_type": "code",
   "execution_count": 21,
   "metadata": {},
   "outputs": [
    {
     "data": {
      "text/plain": [
       "GDP per capita       32485.545\n",
       "Life satisfaction        5.900\n",
       "Name: Japan, dtype: float64"
      ]
     },
     "execution_count": 21,
     "metadata": {},
     "output_type": "execute_result"
    }
   ],
   "source": [
    "full_country_stats[[\"GDP per capita\", 'Life satisfaction']].loc[\"Japan\"]"
   ]
  },
  {
   "cell_type": "code",
   "execution_count": 22,
   "metadata": {},
   "outputs": [],
   "source": [
    "%matplotlib inline\n",
    "\n",
    "def graph_gen():\n",
    "    oecd_bli = pd.read_csv(datapath + \"oecd_bli_2015.csv\", thousands=',')\n",
    "    gdp_per_capita = pd.read_csv(datapath + \"gdp_per_capita.csv\",thousands=',',delimiter='\\t', encoding='latin1', na_values=\"n/a\")\n",
    "\n",
    "    # Prepare the data\n",
    "    country_stats = prep_country_stats(oecd_bli, gdp_per_capita) \n",
    "    X = np.c_[country_stats[\"GDP per capita\"]]\n",
    "    y = np.c_[country_stats[\"Life satisfaction\"]]\n",
    "    \n",
    "    return country_stats.plot(kind='scatter', x=\"GDP per capita\", y='Life satisfaction', figsize=(10,6))"
   ]
  },
  {
   "cell_type": "code",
   "execution_count": 23,
   "metadata": {},
   "outputs": [
    {
     "data": {
      "image/png": "[encoded data removed]",
      "text/plain": [
       "<Figure size 720x432 with 1 Axes>"
      ]
     },
     "metadata": {
      "needs_background": "dark"
     },
     "output_type": "display_data"
    }
   ],
   "source": [
    "graph_gen()\n",
    "plt.show()"
   ]
  },
  {
   "cell_type": "code",
   "execution_count": 24,
   "metadata": {},
   "outputs": [
    {
     "data": {
      "image/png": "[encoded data removed]",
      "text/plain": [
       "<Figure size 720x432 with 1 Axes>"
      ]
     },
     "metadata": {
      "needs_background": "dark"
     },
     "output_type": "display_data"
    }
   ],
   "source": [
    "graph_gen()\n",
    "plt.axis([0, 60000, 0, 10])\n",
    "plt.show()"
   ]
  },
  {
   "cell_type": "code",
   "execution_count": 25,
   "metadata": {},
   "outputs": [
    {
     "data": {
      "text/plain": [
       "(4.853052800266435, 4.911544589158486e-05)"
      ]
     },
     "execution_count": 25,
     "metadata": {},
     "output_type": "execute_result"
    }
   ],
   "source": [
    "rel = sklearn.linear_model.LinearRegression()\n",
    "oecd_bli = pd.read_csv(datapath + \"oecd_bli_2015.csv\", thousands=',')\n",
    "gdp_per_capita = pd.read_csv(datapath + \"gdp_per_capita.csv\",thousands=',',delimiter='\\t', encoding='latin1', na_values=\"n/a\")\n",
    "\n",
    "# Prepare the data\n",
    "sample_data= prep_country_stats(oecd_bli, gdp_per_capita) \n",
    "Xsample = np.c_[sample_data[\"GDP per capita\"]]\n",
    "ysample = np.c_[sample_data[\"Life satisfaction\"]]\n",
    "rel.fit(Xsample, ysample)\n",
    "t0, t1 = rel.intercept_[0], rel.coef_[0][0]\n",
    "t0, t1"
   ]
  },
  {
   "cell_type": "code",
   "execution_count": 27,
   "metadata": {},
   "outputs": [],
   "source": [
    "def graph_w_line():\n",
    "    sample_data.plot(kind='scatter', x=\"GDP per capita\", y='Life satisfaction', figsize=(10,6))\n",
    "    plt.xlabel(\"GDP per capita (USD)\")\n",
    "    plt.axis([0, 60000, 0, 10])\n",
    "    X=np.linspace(0, 60000, 1000)\n",
    "    plt.plot(X, t0 + t1*X, \"b\")\n",
    "    plt.text(5000, 3.1, r\"a= 4.85\", fontsize=14, color=\"b\")\n",
    "    plt.text(5000, 2.2, r\"$b = 4.91 \\times 10^{-5}$\", fontsize=14, color=\"b\")"
   ]
  },
  {
   "cell_type": "code",
   "execution_count": 28,
   "metadata": {
    "scrolled": true
   },
   "outputs": [
    {
     "data": {
      "image/png": "[encoded data removed]",
      "text/plain": [
       "<Figure size 720x432 with 1 Axes>"
      ]
     },
     "metadata": {
      "needs_background": "dark"
     },
     "output_type": "display_data"
    }
   ],
   "source": [
    "graph_w_line()\n",
    "plt.show()"
   ]
  },
  {
   "cell_type": "code",
   "execution_count": 31,
   "metadata": {},
   "outputs": [],
   "source": [
    "gdp = 1900 #India\n",
    "\n",
    "# Select a linear model\n",
    "model = sklearn.linear_model.LinearRegression()\n",
    "\n",
    "oecd_bli = pd.read_csv(datapath + \"oecd_bli_2015.csv\", thousands=',')\n",
    "gdp_per_capita = pd.read_csv(datapath + \"gdp_per_capita.csv\",thousands=',',delimiter='\\t', encoding='latin1', na_values=\"n/a\")\n",
    "\n",
    "\n",
    "#get X and y \n",
    "country_stats = prep_country_stats(oecd_bli, gdp_per_capita)\n",
    "X = np.c_[country_stats[\"GDP per capita\"]]\n",
    "y = np.c_[country_stats[\"Life satisfaction\"]]\n",
    "\n",
    "# Train the model\n",
    "model.fit(X, y)\n",
    "\n",
    "# Make a prediction for India\n",
    "X_new = [[gdp]]\n",
    "\n",
    "l_pred = model.predict(X_new)"
   ]
  },
  {
   "cell_type": "code",
   "execution_count": 32,
   "metadata": {},
   "outputs": [
    {
     "name": "stderr",
     "output_type": "stream",
     "text": [
      "/private/var/containers/Bundle/Application/75C960C0-D3A3-482F-B1D3-C24DDF4E3AB7/Carnets-sci.app/Library/lib/python3.9/site-packages/numpy/core/shape_base.py:65: VisibleDeprecationWarning: Creating an ndarray from ragged nested sequences (which is a list-or-tuple of lists-or-tuples-or ndarrays with different lengths or shapes) is deprecated. If you meant to do this, you must specify 'dtype=object' when creating the ndarray.\n",
      "  ary = asanyarray(ary)\n"
     ]
    },
    {
     "data": {
      "image/png": "[encoded data removed]",
      "text/plain": [
       "<Figure size 720x432 with 1 Axes>"
      ]
     },
     "metadata": {
      "needs_background": "dark"
     },
     "output_type": "display_data"
    }
   ],
   "source": [
    "graph_w_line()\n",
    "plt.plot([gdp, gdp], [0, l_pred], \"r--\")\n",
    "plt.text(25000, 5.0, f\"Prediction = {l_pred}\", fontsize=14, color=\"b\")\n",
    "plt.plot(gdp, l_pred, \"ro\")\n",
    "plt.show()"
   ]
  }
 ],
 "metadata": {
  "kernelspec": {
   "display_name": "Python 3 (ipykernel)",
   "language": "python",
   "name": "python3"
  },
  "language_info": {
   "codemirror_mode": {
    "name": "ipython",
    "version": 3
   },
   "file_extension": ".py",
   "mimetype": "text/x-python",
   "name": "python",
   "nbconvert_exporter": "python",
   "pygments_lexer": "ipython3",
   "version": "3.11.0"
  }
 },
 "nbformat": 4,
 "nbformat_minor": 2
}
